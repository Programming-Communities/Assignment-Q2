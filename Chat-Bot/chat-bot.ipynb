{
 "cells": [
  {
   "cell_type": "markdown",
   "metadata": {},
   "source": [
    "## Google https://colab.research.google.com/\n",
    "## same code use on google colab jast put on gooogle gemini key only"
   ]
  },
  {
   "cell_type": "code",
   "execution_count": null,
   "metadata": {
    "vscode": {
     "languageId": "plaintext"
    }
   },
   "outputs": [],
   "source": [
    "from google.colab import userdata\n",
    "userdata.get('GOOGLE_API_KEY')"
   ]
  },
  {
   "cell_type": "code",
   "execution_count": null,
   "metadata": {
    "vscode": {
     "languageId": "plaintext"
    }
   },
   "outputs": [],
   "source": [
    "import google.generativeai as genai\n",
    "\n",
    "\n",
    "\n",
    "genai.configure(api_key=\"Google Api key add karni ha aap nay pass\")\n",
    "\n",
    "model_name = \"gemini-1.5-flash\"\n",
    "model = genai.GenerativeModel(model_name)\n",
    "\n",
    "response = model.generate_content(\"one issue i use google colab but api ki store and use how can possbile\")\n",
    "\n",
    "print(response.text)"
   ]
  }
 ],
 "metadata": {
  "language_info": {
   "name": "python"
  }
 },
 "nbformat": 4,
 "nbformat_minor": 2
}
